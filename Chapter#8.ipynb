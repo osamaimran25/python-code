{
 "cells": [
  {
   "cell_type": "code",
   "execution_count": 2,
   "metadata": {},
   "outputs": [
    {
     "name": "stdout",
     "output_type": "stream",
     "text": [
      "{'Artist': 'Atif', 'Album': 'tiger zinda hai', 'Track': 0}\n",
      "{'Artist': 'Micheal jakson', 'Album': 'billi jeans', 'Track': 10}\n",
      "{'Artist': 'Ali zafar', 'Album': 'bekar', 'Track': 5}\n",
      "{'Artist': 'bilal saeed', 'Album': 'suroor', 'Track': 0}\n",
      "{'Artist': 'rahat fateh ali khan', 'Album': 'Rahat', 'Track': 0}\n",
      "{'Artist': 'unknown', 'Album': 'classical', 'Track': 0}\n"
     ]
    }
   ],
   "source": [
    "#Ex-------->8.7 \n",
    "def make_album(arist,album,track=0):\n",
    "\n",
    "    info={'Artist':arist,'Album':album,'Track':track}\n",
    "    return info\n",
    "print(make_album('Atif','tiger zinda hai'))\n",
    "print(make_album('Micheal jakson','billi jeans',10))\n",
    "print(make_album('Ali zafar','bekar',5))\n",
    "print(make_album('bilal saeed','suroor'))\n",
    "print(make_album('rahat fateh ali khan','Rahat'))\n",
    "print(make_album('unknown','classical'))\n",
    "\n"
   ]
  },
  {
   "cell_type": "code",
   "execution_count": 5,
   "metadata": {},
   "outputs": [
    {
     "name": "stdout",
     "output_type": "stream",
     "text": [
      "Enter the Artist nameOsama\n",
      "Enter Album name:abcd\n",
      "No. of tracks: \n",
      "{'Artist': 'Osama', 'Album': 'abcd', 'Track': 'NON'}\n",
      "Enter the Artist nameppp\n",
      "Enter Album name:JSX\n",
      "No. of tracks: 9\n",
      "{'Artist': 'ppp', 'Album': 'JSX', 'Track': '9'}\n",
      "Enter the Artist namequit\n"
     ]
    }
   ],
   "source": [
    "#Ex-----> 8.8\n",
    "\n",
    "def make_album(arist,album,track=\"\"):\n",
    "\n",
    "    info={'Artist':arist,'Album':album,'Track':track}\n",
    "    return info\n",
    "\n",
    "\n",
    "while True:\n",
    "    art=input(\"Enter the Artist name\")\n",
    "    if art=='quit':\n",
    "        break\n",
    "    almb=input(\"Enter Album name:\")\n",
    "    track=input(\"No. of tracks: \")\n",
    "    if track==\"\":\n",
    "        track=\"NON\"\n",
    "\n",
    "    print(make_album(art,almb,track))"
   ]
  },
  {
   "cell_type": "code",
   "execution_count": 6,
   "metadata": {},
   "outputs": [
    {
     "name": "stdout",
     "output_type": "stream",
     "text": [
      "Osama\n",
      "Atif\n",
      "Samad\n"
     ]
    }
   ],
   "source": [
    "#Ex------>8.9\n",
    "def show_magician(mag_name):\n",
    "    for magcian in mag_name:\n",
    "        print(magcian)\n",
    "\n",
    "magicians=['Osama','Atif','Samad']\n",
    "show_magician(magicians)\n",
    "\n"
   ]
  },
  {
   "cell_type": "code",
   "execution_count": 7,
   "metadata": {},
   "outputs": [
    {
     "name": "stdout",
     "output_type": "stream",
     "text": [
      "Great ! Osama\n",
      "Great ! Atif\n",
      "Great ! Samad\n"
     ]
    }
   ],
   "source": [
    "#Ex------>8.10\n",
    "def great_magician(name):\n",
    "    print(\"Great !\",name)\n",
    "\n",
    "\n",
    "def show_magician(mag_name):\n",
    "    for magcian in mag_name:\n",
    "        great_magician(magcian)\n",
    "\n",
    "\n",
    "magicians=['Osama','Atif','Samad']\n",
    "show_magician(magicians)"
   ]
  },
  {
   "cell_type": "code",
   "execution_count": 8,
   "metadata": {},
   "outputs": [
    {
     "name": "stdout",
     "output_type": "stream",
     "text": [
      "Great ! Osama\n",
      "Great ! Atif\n",
      "Great ! Samad\n",
      "Orignal List---->\n",
      "Osama\n",
      "Atif\n",
      "Samad\n"
     ]
    }
   ],
   "source": [
    "#Ex----->8.11\n",
    "def great_magician(name):\n",
    "    print(\"Great !\",name)\n",
    "\n",
    "\n",
    "def show_magician(mag_name):\n",
    "    copy_list=mag_name\n",
    "\n",
    "    for magcian in copy_list:\n",
    "        great_magician(magcian)\n",
    "\n",
    "\n",
    "magicians=['Osama','Atif','Samad']\n",
    "show_magician(magicians)\n",
    "print(\"Orignal List---->\")\n",
    "for mag in magicians:\n",
    "    print(mag)"
   ]
  },
  {
   "cell_type": "code",
   "execution_count": null,
   "metadata": {
    "collapsed": true
   },
   "outputs": [],
   "source": []
  }
 ],
 "metadata": {
  "kernelspec": {
   "display_name": "Python 3",
   "language": "python",
   "name": "python3"
  },
  "language_info": {
   "codemirror_mode": {
    "name": "ipython",
    "version": 3
   },
   "file_extension": ".py",
   "mimetype": "text/x-python",
   "name": "python",
   "nbconvert_exporter": "python",
   "pygments_lexer": "ipython3",
   "version": "3.6.3"
  }
 },
 "nbformat": 4,
 "nbformat_minor": 2
}
