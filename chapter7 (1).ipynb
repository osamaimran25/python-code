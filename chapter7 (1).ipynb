{
 "cells": [
  {
   "cell_type": "code",
   "execution_count": 2,
   "metadata": {},
   "outputs": [
    {
     "name": "stdout",
     "output_type": "stream",
     "text": [
      "What Kind of Car you would like Audi\n",
      "OK let me check if i can find you a Audi\n"
     ]
    }
   ],
   "source": [
    "\n",
    "# coding: utf-8\n",
    "\n",
    "# #Ex7.1\n",
    "message=input(\"What Kind of Car you would like \")\n",
    "print(\"OK let me check if i can find you a \"+message)\n",
    "\n",
    "\n"
   ]
  },
  {
   "cell_type": "code",
   "execution_count": 4,
   "metadata": {},
   "outputs": [
    {
     "name": "stdout",
     "output_type": "stream",
     "text": [
      "How many people are in the dinner: 11\n",
      "You have to wait for table \n"
     ]
    }
   ],
   "source": [
    "#Ex7.2\n",
    "\n",
    "persons=input(\"How many people are in the dinner: \")\n",
    "persons=int(persons)\n",
    "if persons>8:\n",
    "    print(\"You have to wait for table \")\n",
    "else:\n",
    "    print(\"Your table is ready \") \n",
    "\n",
    "\n",
    "# In[ ]:\n"
   ]
  },
  {
   "cell_type": "code",
   "execution_count": 5,
   "metadata": {},
   "outputs": [
    {
     "name": "stdout",
     "output_type": "stream",
     "text": [
      "Enter any number: 3\n",
      "not a multiple of 10\n"
     ]
    }
   ],
   "source": [
    "#Ex7.3\n",
    "\n",
    "num=input(\"Enter any number: \")\n",
    "num=int(num)\n",
    "\n",
    "if num%10==0:\n",
    "    print(\"The given number is multiple of 10\")\n",
    "else:\n",
    "    print(\"not a multiple of 10\")\n",
    "    \n"
   ]
  },
  {
   "cell_type": "code",
   "execution_count": 6,
   "metadata": {},
   "outputs": [
    {
     "name": "stdout",
     "output_type": "stream",
     "text": [
      "Please enter the Topping you want: Peproni\n",
      "Peproni Topping is added\n",
      "Please enter the Topping you want: chicken\n",
      "chicken Topping is added\n",
      "Please enter the Topping you want: quit\n",
      "quit\n"
     ]
    }
   ],
   "source": [
    "#EX7.4\n",
    "message = \"\"\n",
    "while message != 'quit':\n",
    "    message = input(\"Please enter the Topping you want: \")\n",
    "    if message=='quit':\n",
    "            print(message)\n",
    "            break\n",
    "    print(message+\" Topping is added\")\n"
   ]
  },
  {
   "cell_type": "code",
   "execution_count": null,
   "metadata": {},
   "outputs": [
    {
     "name": "stdout",
     "output_type": "stream",
     "text": [
      "Enter age of person3\n",
      "Ticket is free\n",
      "Enter age of personquit\n",
      "Enter age of personquit \n",
      "the ticket is 15$\n"
     ]
    }
   ],
   "source": [
    "#EX 7.5\n",
    "\n",
    "flag=\"true\"\n",
    "while flag:\n",
    "    age=input(\"Enter age of person\")\n",
    "    if str(age) =='quit':\n",
    "        flag='false'\n",
    "    \n",
    "    elif age<='3':\n",
    "        print(\"Ticket is free\")\n",
    "    elif age in range(3,13):\n",
    "        print(\"The ticket 10$\")\n",
    "    elif age>'12':\n",
    "        print(\"the ticket is 15$\")\n"
   ]
  },
  {
   "cell_type": "code",
   "execution_count": null,
   "metadata": {
    "collapsed": true
   },
   "outputs": [],
   "source": []
  },
  {
   "cell_type": "code",
   "execution_count": null,
   "metadata": {
    "collapsed": true
   },
   "outputs": [],
   "source": []
  },
  {
   "cell_type": "code",
   "execution_count": null,
   "metadata": {
    "collapsed": true
   },
   "outputs": [],
   "source": []
  }
 ],
 "metadata": {
  "kernelspec": {
   "display_name": "Python 3",
   "language": "python",
   "name": "python3"
  },
  "language_info": {
   "codemirror_mode": {
    "name": "ipython",
    "version": 3
   },
   "file_extension": ".py",
   "mimetype": "text/x-python",
   "name": "python",
   "nbconvert_exporter": "python",
   "pygments_lexer": "ipython3",
   "version": "3.6.3"
  }
 },
 "nbformat": 4,
 "nbformat_minor": 2
}
