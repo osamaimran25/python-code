{
 "cells": [
  {
   "cell_type": "code",
   "execution_count": 20,
   "metadata": {
    "scrolled": true
   },
   "outputs": [
    {
     "name": "stdout",
     "output_type": "stream",
     "text": [
      "wexnz has max price of: 10972.4146834\n",
      "BitFinex has minimum price of: 10602.25\n",
      "Difference of max and min market is : 370.16468336\n",
      "absoulute percentage is 3.43147565714\n"
     ]
    },
    {
     "data": {
      "image/png": "[encoded data removed]",
      "text/plain": [
       "<matplotlib.figure.Figure at 0x13457ac69b0>"
      ]
     },
     "metadata": {},
     "output_type": "display_data"
    }
   ],
   "source": [
    "import requests as r\n",
    "import pandas as pd\n",
    "import matplotlib.pyplot as plt\n",
    "\n",
    "\n",
    "url=\"https://api.cryptonator.com/api/full/btc-usd\"\n",
    "response=r.get(url)\n",
    "#print(response.status_code)\n",
    "my_dict=response.json()\n",
    "\n",
    "m_list= my_dict['ticker']['markets']\n",
    "df = pd.DataFrame(m_list)\n",
    "\n",
    "\n",
    "\n",
    "# max=df.loc[df['price'].idxmax()]\n",
    "# min=df.loc[df['price'].idxmin()]\n",
    "\n",
    "\n",
    "#print(min)\n",
    "\n",
    "x=df['price'].astype(float)\n",
    "y=df['volume']\n",
    "exchange=df['market']\n",
    "maxmarket=max(exchange)\n",
    "minmarket=min(exchange)\n",
    "print(maxmarket,\"has max price of:\",max(x))\n",
    "print(minmarket,\"has minimum price of:\",min(x))\n",
    "diff=max(x)-min(x)\n",
    "print(\"Difference of max and min market is :\",diff) \n",
    "print(\"absoulute percentage is\",((diff/((max(x)+min(x))/2))*100))\n",
    "\n",
    "\n",
    "\n",
    "plt.scatter(x, y)\n",
    "plt.ylabel(\"High volume\")\n",
    "plt.xlabel(\"High prices\")\n",
    "plt.title(\"Arbitrage graph plotting\")\n",
    "plt.grid()\n",
    "\n",
    "plt.show()\n"
   ]
  },
  {
   "cell_type": "code",
   "execution_count": null,
   "metadata": {
    "collapsed": true
   },
   "outputs": [],
   "source": []
  }
 ],
 "metadata": {
  "kernelspec": {
   "display_name": "Python 3",
   "language": "python",
   "name": "python3"
  },
  "language_info": {
   "codemirror_mode": {
    "name": "ipython",
    "version": 3
   },
   "file_extension": ".py",
   "mimetype": "text/x-python",
   "name": "python",
   "nbconvert_exporter": "python",
   "pygments_lexer": "ipython3",
   "version": "3.6.3"
  }
 },
 "nbformat": 4,
 "nbformat_minor": 2
}
