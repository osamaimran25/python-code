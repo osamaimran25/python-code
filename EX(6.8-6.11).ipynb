{
 "cells": [
  {
   "cell_type": "code",
   "execution_count": 2,
   "metadata": {},
   "outputs": [
    {
     "name": "stdout",
     "output_type": "stream",
     "text": [
      "Pet name is cat Owner name is ronald\n",
      "Pet name is dog Owner name is hellry\n"
     ]
    }
   ],
   "source": [
    "mano={'cat':'ronald'}\n",
    "tommy={'dog':'hellry'}\n",
    "prince={'cat':'keller'}\n",
    "petlist=[mano,tommy]\n",
    "\n",
    "for  pet in petlist:\n",
    "    for petName,petowner in pet.items():\n",
    "\n",
    "        print(\"Pet name is\",str(petName),\"Owner name is\",str(petowner))\n"
   ]
  },
  {
   "cell_type": "code",
   "execution_count": 3,
   "metadata": {},
   "outputs": [
    {
     "name": "stdout",
     "output_type": "stream",
     "text": [
      "Name Osama favrite Place Seaview\n",
      "Name Ahsan favrite Place MovenPick Hotel\n",
      "Name Hamza favrite Place Home Sweet Home\n"
     ]
    }
   ],
   "source": [
    "#Ex 6.9\n",
    "fav_places={'Osama': 'Seaview','Ahsan':'MovenPick Hotel','Hamza':'Home Sweet Home'}\n",
    "\n",
    "for name,fav_place in fav_places.items():\n",
    "    print(\"Name\",str(name),\"favrite Place\",str(fav_place))"
   ]
  },
  {
   "cell_type": "code",
   "execution_count": null,
   "metadata": {
    "collapsed": true
   },
   "outputs": [],
   "source": [
    "#Ex 6.10\n",
    "favrite_numbers={'Ahmed':[2,5], 'Zia':[77,8],'shahzaib':[7,9]}\n",
    "\n",
    "\n",
    "for name,numbers in favrite_numbers.items():\n",
    "    print(name,\"'s favrite Numbers are \")\n",
    "    for number in numbers:\n",
    "        print(str(number))"
   ]
  },
  {
   "cell_type": "code",
   "execution_count": 4,
   "metadata": {},
   "outputs": [
    {
     "name": "stdout",
     "output_type": "stream",
     "text": [
      "City karachi\n",
      "country   Pakistan\n",
      "population   193,2 million\n",
      "City Gonzu\n",
      "country   China\n",
      "population   159.3 million\n",
      "City India\n",
      "country   Pakistan\n",
      "population   200 million\n"
     ]
    }
   ],
   "source": [
    "\n",
    "#EX 6.11\n",
    "cites={'karachi':{'country':'Pakistan','population':'193,2 million'},'Gonzu':{'country':'China','population':'159.3 million'},\n",
    "'India':{'country':'Pakistan','population':'200 million'}  }\n",
    "\n",
    "for city,info in cites.items():\n",
    "    print(\"City\",city )\n",
    "    for city1,data in info.items():\n",
    "        print(city1,\" \",data)"
   ]
  },
  {
   "cell_type": "code",
   "execution_count": null,
   "metadata": {
    "collapsed": true
   },
   "outputs": [],
   "source": []
  }
 ],
 "metadata": {
  "kernelspec": {
   "display_name": "Python 3",
   "language": "python",
   "name": "python3"
  },
  "language_info": {
   "codemirror_mode": {
    "name": "ipython",
    "version": 3
   },
   "file_extension": ".py",
   "mimetype": "text/x-python",
   "name": "python",
   "nbconvert_exporter": "python",
   "pygments_lexer": "ipython3",
   "version": "3.6.3"
  }
 },
 "nbformat": 4,
 "nbformat_minor": 2
}
